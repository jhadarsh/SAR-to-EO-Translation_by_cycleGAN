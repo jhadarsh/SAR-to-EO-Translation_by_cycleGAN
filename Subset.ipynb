{
 "cells": [
  {
   "cell_type": "code",
   "execution_count": 1,
   "id": "07261c70-abb2-40f7-a051-1933deebfb86",
   "metadata": {},
   "outputs": [
    {
     "name": "stdout",
     "output_type": "stream",
     "text": [
      "Total matched SAR-EO pairs: 31825\n",
      "Copied 200 matched pairs to C:\\Users\\adars\\Downloads\\SAR-to-EO\\subset\n"
     ]
    }
   ],
   "source": [
    "import os\n",
    "import shutil\n",
    "import random\n",
    "\n",
    "# Root directories\n",
    "sar_root = r\"C:\\Users\\adars\\Downloads\\SAR-to-EO\\ROIs2017_winter_s1_extracted\\ROIs2017_winter\"\n",
    "eo_root  = r\"C:\\Users\\adars\\Downloads\\SAR-to-EO\\ROIs2017_winter_s2_extracted\\ROIs2017_winter\"\n",
    "\n",
    "# Output subset directory\n",
    "output_dir = r\"C:\\Users\\adars\\Downloads\\SAR-to-EO\\subset\"\n",
    "sar_out = os.path.join(output_dir, \"SAR\")\n",
    "eo_out = os.path.join(output_dir, \"EO\")\n",
    "os.makedirs(sar_out, exist_ok=True)\n",
    "os.makedirs(eo_out, exist_ok=True)\n",
    "\n",
    "# Collect all matched files\n",
    "sar_files = []\n",
    "for folder in os.listdir(sar_root):\n",
    "    folder_path = os.path.join(sar_root, folder)\n",
    "    if os.path.isdir(folder_path):\n",
    "        for file in os.listdir(folder_path):\n",
    "            if file.endswith(\".tif\"):\n",
    "                sar_path = os.path.join(folder_path, file)\n",
    "                pair_id = file.split(\"_p\")[-1]\n",
    "                eo_file = file.replace(\"s1\", \"s2\")  # assume consistent naming\n",
    "                eo_path = os.path.join(eo_root, folder.replace(\"s1\", \"s2\"), eo_file)\n",
    "                if os.path.exists(eo_path):\n",
    "                    sar_files.append((sar_path, eo_path))\n",
    "\n",
    "print(f\"Total matched SAR-EO pairs: {len(sar_files)}\")\n",
    "\n",
    "# Randomly sample N pairs\n",
    "subset_size = 200  # You can change this\n",
    "subset_pairs = random.sample(sar_files, subset_size)\n",
    "\n",
    "# Copy to subset folder\n",
    "for i, (sar_fp, eo_fp) in enumerate(subset_pairs):\n",
    "    sar_dst = os.path.join(sar_out, os.path.basename(sar_fp))\n",
    "    eo_dst  = os.path.join(eo_out, os.path.basename(eo_fp))\n",
    "    shutil.copy2(sar_fp, sar_dst)\n",
    "    shutil.copy2(eo_fp, eo_dst)\n",
    "\n",
    "print(f\"Copied {subset_size} matched pairs to {output_dir}\")\n"
   ]
  },
  {
   "cell_type": "code",
   "execution_count": null,
   "id": "6dfe29f3-c8b7-40e0-b38c-2d59d73d8866",
   "metadata": {},
   "outputs": [],
   "source": []
  }
 ],
 "metadata": {
  "kernelspec": {
   "display_name": "Python 3 (ipykernel)",
   "language": "python",
   "name": "python3"
  },
  "language_info": {
   "codemirror_mode": {
    "name": "ipython",
    "version": 3
   },
   "file_extension": ".py",
   "mimetype": "text/x-python",
   "name": "python",
   "nbconvert_exporter": "python",
   "pygments_lexer": "ipython3",
   "version": "3.10.11"
  }
 },
 "nbformat": 4,
 "nbformat_minor": 5
}
